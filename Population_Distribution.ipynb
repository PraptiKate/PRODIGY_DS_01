{
 "cells": [
  {
   "cell_type": "markdown",
   "id": "3f10acc4-205b-4e84-9ab8-2e528adb1d9c",
   "metadata": {},
   "source": [
    "### Import Required Libraries "
   ]
  },
  {
   "cell_type": "code",
   "execution_count": 4,
   "id": "b64e9717-81a1-4be5-9e02-1f4448e1d3b3",
   "metadata": {},
   "outputs": [],
   "source": [
    "import numpy as np\n",
    "import pandas as pd\n",
    "import matplotlib.pyplot as plt\n",
    "%matplotlib inline\n",
    "import seaborn as sns\n",
    "import sys"
   ]
  },
  {
   "cell_type": "markdown",
   "id": "df8fa7cd-316a-4cc0-9234-8e21024bd591",
   "metadata": {},
   "source": [
    "### Load the Dataset"
   ]
  },
  {
   "cell_type": "code",
   "execution_count": 6,
   "id": "d05ba4ac-2ce4-43be-8322-dff41ff27d39",
   "metadata": {},
   "outputs": [
    {
     "data": {
      "text/html": [
       "<div>\n",
       "<style scoped>\n",
       "    .dataframe tbody tr th:only-of-type {\n",
       "        vertical-align: middle;\n",
       "    }\n",
       "\n",
       "    .dataframe tbody tr th {\n",
       "        vertical-align: top;\n",
       "    }\n",
       "\n",
       "    .dataframe thead th {\n",
       "        text-align: right;\n",
       "    }\n",
       "</style>\n",
       "<table border=\"1\" class=\"dataframe\">\n",
       "  <thead>\n",
       "    <tr style=\"text-align: right;\">\n",
       "      <th></th>\n",
       "      <th>Country Name</th>\n",
       "      <th>Country Code</th>\n",
       "      <th>Indicator Name</th>\n",
       "      <th>Indicator Code</th>\n",
       "      <th>1960</th>\n",
       "      <th>1961</th>\n",
       "      <th>1962</th>\n",
       "      <th>1963</th>\n",
       "      <th>1964</th>\n",
       "      <th>1965</th>\n",
       "      <th>...</th>\n",
       "      <th>2016</th>\n",
       "      <th>2017</th>\n",
       "      <th>2018</th>\n",
       "      <th>2019</th>\n",
       "      <th>2020</th>\n",
       "      <th>2021</th>\n",
       "      <th>2022</th>\n",
       "      <th>2023</th>\n",
       "      <th>2024</th>\n",
       "      <th>Unnamed: 69</th>\n",
       "    </tr>\n",
       "  </thead>\n",
       "  <tbody>\n",
       "    <tr>\n",
       "      <th>0</th>\n",
       "      <td>Aruba</td>\n",
       "      <td>ABW</td>\n",
       "      <td>Population, total</td>\n",
       "      <td>SP.POP.TOTL</td>\n",
       "      <td>54922.0</td>\n",
       "      <td>55578.0</td>\n",
       "      <td>56320.0</td>\n",
       "      <td>57002.0</td>\n",
       "      <td>57619.0</td>\n",
       "      <td>58190.0</td>\n",
       "      <td>...</td>\n",
       "      <td>108727.0</td>\n",
       "      <td>108735.0</td>\n",
       "      <td>108908.0</td>\n",
       "      <td>109203.0</td>\n",
       "      <td>108587.0</td>\n",
       "      <td>107700.0</td>\n",
       "      <td>107310.0</td>\n",
       "      <td>107359.0</td>\n",
       "      <td>NaN</td>\n",
       "      <td>NaN</td>\n",
       "    </tr>\n",
       "    <tr>\n",
       "      <th>1</th>\n",
       "      <td>Africa Eastern and Southern</td>\n",
       "      <td>AFE</td>\n",
       "      <td>Population, total</td>\n",
       "      <td>SP.POP.TOTL</td>\n",
       "      <td>130072080.0</td>\n",
       "      <td>133534923.0</td>\n",
       "      <td>137171659.0</td>\n",
       "      <td>140945536.0</td>\n",
       "      <td>144904094.0</td>\n",
       "      <td>149033472.0</td>\n",
       "      <td>...</td>\n",
       "      <td>623369401.0</td>\n",
       "      <td>640058741.0</td>\n",
       "      <td>657801085.0</td>\n",
       "      <td>675950189.0</td>\n",
       "      <td>694446100.0</td>\n",
       "      <td>713090928.0</td>\n",
       "      <td>731821393.0</td>\n",
       "      <td>750503764.0</td>\n",
       "      <td>NaN</td>\n",
       "      <td>NaN</td>\n",
       "    </tr>\n",
       "    <tr>\n",
       "      <th>2</th>\n",
       "      <td>Afghanistan</td>\n",
       "      <td>AFG</td>\n",
       "      <td>Population, total</td>\n",
       "      <td>SP.POP.TOTL</td>\n",
       "      <td>9035043.0</td>\n",
       "      <td>9214083.0</td>\n",
       "      <td>9404406.0</td>\n",
       "      <td>9604487.0</td>\n",
       "      <td>9814318.0</td>\n",
       "      <td>10036008.0</td>\n",
       "      <td>...</td>\n",
       "      <td>34700612.0</td>\n",
       "      <td>35688935.0</td>\n",
       "      <td>36743039.0</td>\n",
       "      <td>37856121.0</td>\n",
       "      <td>39068979.0</td>\n",
       "      <td>40000412.0</td>\n",
       "      <td>40578842.0</td>\n",
       "      <td>41454761.0</td>\n",
       "      <td>NaN</td>\n",
       "      <td>NaN</td>\n",
       "    </tr>\n",
       "    <tr>\n",
       "      <th>3</th>\n",
       "      <td>Africa Western and Central</td>\n",
       "      <td>AFW</td>\n",
       "      <td>Population, total</td>\n",
       "      <td>SP.POP.TOTL</td>\n",
       "      <td>97630925.0</td>\n",
       "      <td>99706674.0</td>\n",
       "      <td>101854756.0</td>\n",
       "      <td>104089175.0</td>\n",
       "      <td>106388440.0</td>\n",
       "      <td>108772632.0</td>\n",
       "      <td>...</td>\n",
       "      <td>429454743.0</td>\n",
       "      <td>440882906.0</td>\n",
       "      <td>452195915.0</td>\n",
       "      <td>463365429.0</td>\n",
       "      <td>474569351.0</td>\n",
       "      <td>485920997.0</td>\n",
       "      <td>497387180.0</td>\n",
       "      <td>509398589.0</td>\n",
       "      <td>NaN</td>\n",
       "      <td>NaN</td>\n",
       "    </tr>\n",
       "    <tr>\n",
       "      <th>4</th>\n",
       "      <td>Angola</td>\n",
       "      <td>AGO</td>\n",
       "      <td>Population, total</td>\n",
       "      <td>SP.POP.TOTL</td>\n",
       "      <td>5231654.0</td>\n",
       "      <td>5301583.0</td>\n",
       "      <td>5354310.0</td>\n",
       "      <td>5408320.0</td>\n",
       "      <td>5464187.0</td>\n",
       "      <td>5521981.0</td>\n",
       "      <td>...</td>\n",
       "      <td>29183070.0</td>\n",
       "      <td>30234839.0</td>\n",
       "      <td>31297155.0</td>\n",
       "      <td>32375632.0</td>\n",
       "      <td>33451132.0</td>\n",
       "      <td>34532429.0</td>\n",
       "      <td>35635029.0</td>\n",
       "      <td>36749906.0</td>\n",
       "      <td>NaN</td>\n",
       "      <td>NaN</td>\n",
       "    </tr>\n",
       "    <tr>\n",
       "      <th>...</th>\n",
       "      <td>...</td>\n",
       "      <td>...</td>\n",
       "      <td>...</td>\n",
       "      <td>...</td>\n",
       "      <td>...</td>\n",
       "      <td>...</td>\n",
       "      <td>...</td>\n",
       "      <td>...</td>\n",
       "      <td>...</td>\n",
       "      <td>...</td>\n",
       "      <td>...</td>\n",
       "      <td>...</td>\n",
       "      <td>...</td>\n",
       "      <td>...</td>\n",
       "      <td>...</td>\n",
       "      <td>...</td>\n",
       "      <td>...</td>\n",
       "      <td>...</td>\n",
       "      <td>...</td>\n",
       "      <td>...</td>\n",
       "      <td>...</td>\n",
       "    </tr>\n",
       "    <tr>\n",
       "      <th>261</th>\n",
       "      <td>Kosovo</td>\n",
       "      <td>XKX</td>\n",
       "      <td>Population, total</td>\n",
       "      <td>SP.POP.TOTL</td>\n",
       "      <td>984846.0</td>\n",
       "      <td>1011421.0</td>\n",
       "      <td>1036950.0</td>\n",
       "      <td>1062737.0</td>\n",
       "      <td>1090270.0</td>\n",
       "      <td>1120168.0</td>\n",
       "      <td>...</td>\n",
       "      <td>1777568.0</td>\n",
       "      <td>1791019.0</td>\n",
       "      <td>1797086.0</td>\n",
       "      <td>1788891.0</td>\n",
       "      <td>1790152.0</td>\n",
       "      <td>1786080.0</td>\n",
       "      <td>1768096.0</td>\n",
       "      <td>1756366.0</td>\n",
       "      <td>NaN</td>\n",
       "      <td>NaN</td>\n",
       "    </tr>\n",
       "    <tr>\n",
       "      <th>262</th>\n",
       "      <td>Yemen, Rep.</td>\n",
       "      <td>YEM</td>\n",
       "      <td>Population, total</td>\n",
       "      <td>SP.POP.TOTL</td>\n",
       "      <td>5532301.0</td>\n",
       "      <td>5655232.0</td>\n",
       "      <td>5782221.0</td>\n",
       "      <td>5911135.0</td>\n",
       "      <td>6048006.0</td>\n",
       "      <td>6195593.0</td>\n",
       "      <td>...</td>\n",
       "      <td>32109010.0</td>\n",
       "      <td>33090921.0</td>\n",
       "      <td>34085182.0</td>\n",
       "      <td>35111408.0</td>\n",
       "      <td>36134863.0</td>\n",
       "      <td>37140230.0</td>\n",
       "      <td>38222876.0</td>\n",
       "      <td>39390799.0</td>\n",
       "      <td>NaN</td>\n",
       "      <td>NaN</td>\n",
       "    </tr>\n",
       "    <tr>\n",
       "      <th>263</th>\n",
       "      <td>South Africa</td>\n",
       "      <td>ZAF</td>\n",
       "      <td>Population, total</td>\n",
       "      <td>SP.POP.TOTL</td>\n",
       "      <td>16440172.0</td>\n",
       "      <td>16908035.0</td>\n",
       "      <td>17418522.0</td>\n",
       "      <td>17954564.0</td>\n",
       "      <td>18511361.0</td>\n",
       "      <td>19089380.0</td>\n",
       "      <td>...</td>\n",
       "      <td>57259551.0</td>\n",
       "      <td>57635162.0</td>\n",
       "      <td>58613001.0</td>\n",
       "      <td>59587885.0</td>\n",
       "      <td>60562381.0</td>\n",
       "      <td>61502603.0</td>\n",
       "      <td>62378410.0</td>\n",
       "      <td>63212384.0</td>\n",
       "      <td>NaN</td>\n",
       "      <td>NaN</td>\n",
       "    </tr>\n",
       "    <tr>\n",
       "      <th>264</th>\n",
       "      <td>Zambia</td>\n",
       "      <td>ZMB</td>\n",
       "      <td>Population, total</td>\n",
       "      <td>SP.POP.TOTL</td>\n",
       "      <td>3153729.0</td>\n",
       "      <td>3254086.0</td>\n",
       "      <td>3358099.0</td>\n",
       "      <td>3465907.0</td>\n",
       "      <td>3577017.0</td>\n",
       "      <td>3692086.0</td>\n",
       "      <td>...</td>\n",
       "      <td>16914423.0</td>\n",
       "      <td>17441320.0</td>\n",
       "      <td>17973569.0</td>\n",
       "      <td>18513839.0</td>\n",
       "      <td>19059395.0</td>\n",
       "      <td>19603607.0</td>\n",
       "      <td>20152938.0</td>\n",
       "      <td>20723965.0</td>\n",
       "      <td>NaN</td>\n",
       "      <td>NaN</td>\n",
       "    </tr>\n",
       "    <tr>\n",
       "      <th>265</th>\n",
       "      <td>Zimbabwe</td>\n",
       "      <td>ZWE</td>\n",
       "      <td>Population, total</td>\n",
       "      <td>SP.POP.TOTL</td>\n",
       "      <td>3809389.0</td>\n",
       "      <td>3930401.0</td>\n",
       "      <td>4055959.0</td>\n",
       "      <td>4185877.0</td>\n",
       "      <td>4320006.0</td>\n",
       "      <td>4458462.0</td>\n",
       "      <td>...</td>\n",
       "      <td>14600294.0</td>\n",
       "      <td>14812482.0</td>\n",
       "      <td>15034452.0</td>\n",
       "      <td>15271368.0</td>\n",
       "      <td>15526888.0</td>\n",
       "      <td>15797210.0</td>\n",
       "      <td>16069056.0</td>\n",
       "      <td>16340822.0</td>\n",
       "      <td>NaN</td>\n",
       "      <td>NaN</td>\n",
       "    </tr>\n",
       "  </tbody>\n",
       "</table>\n",
       "<p>266 rows × 70 columns</p>\n",
       "</div>"
      ],
      "text/plain": [
       "                    Country Name Country Code     Indicator Name  \\\n",
       "0                          Aruba          ABW  Population, total   \n",
       "1    Africa Eastern and Southern          AFE  Population, total   \n",
       "2                    Afghanistan          AFG  Population, total   \n",
       "3     Africa Western and Central          AFW  Population, total   \n",
       "4                         Angola          AGO  Population, total   \n",
       "..                           ...          ...                ...   \n",
       "261                       Kosovo          XKX  Population, total   \n",
       "262                  Yemen, Rep.          YEM  Population, total   \n",
       "263                 South Africa          ZAF  Population, total   \n",
       "264                       Zambia          ZMB  Population, total   \n",
       "265                     Zimbabwe          ZWE  Population, total   \n",
       "\n",
       "    Indicator Code         1960         1961         1962         1963  \\\n",
       "0      SP.POP.TOTL      54922.0      55578.0      56320.0      57002.0   \n",
       "1      SP.POP.TOTL  130072080.0  133534923.0  137171659.0  140945536.0   \n",
       "2      SP.POP.TOTL    9035043.0    9214083.0    9404406.0    9604487.0   \n",
       "3      SP.POP.TOTL   97630925.0   99706674.0  101854756.0  104089175.0   \n",
       "4      SP.POP.TOTL    5231654.0    5301583.0    5354310.0    5408320.0   \n",
       "..             ...          ...          ...          ...          ...   \n",
       "261    SP.POP.TOTL     984846.0    1011421.0    1036950.0    1062737.0   \n",
       "262    SP.POP.TOTL    5532301.0    5655232.0    5782221.0    5911135.0   \n",
       "263    SP.POP.TOTL   16440172.0   16908035.0   17418522.0   17954564.0   \n",
       "264    SP.POP.TOTL    3153729.0    3254086.0    3358099.0    3465907.0   \n",
       "265    SP.POP.TOTL    3809389.0    3930401.0    4055959.0    4185877.0   \n",
       "\n",
       "            1964         1965  ...         2016         2017         2018  \\\n",
       "0        57619.0      58190.0  ...     108727.0     108735.0     108908.0   \n",
       "1    144904094.0  149033472.0  ...  623369401.0  640058741.0  657801085.0   \n",
       "2      9814318.0   10036008.0  ...   34700612.0   35688935.0   36743039.0   \n",
       "3    106388440.0  108772632.0  ...  429454743.0  440882906.0  452195915.0   \n",
       "4      5464187.0    5521981.0  ...   29183070.0   30234839.0   31297155.0   \n",
       "..           ...          ...  ...          ...          ...          ...   \n",
       "261    1090270.0    1120168.0  ...    1777568.0    1791019.0    1797086.0   \n",
       "262    6048006.0    6195593.0  ...   32109010.0   33090921.0   34085182.0   \n",
       "263   18511361.0   19089380.0  ...   57259551.0   57635162.0   58613001.0   \n",
       "264    3577017.0    3692086.0  ...   16914423.0   17441320.0   17973569.0   \n",
       "265    4320006.0    4458462.0  ...   14600294.0   14812482.0   15034452.0   \n",
       "\n",
       "            2019         2020         2021         2022         2023  2024  \\\n",
       "0       109203.0     108587.0     107700.0     107310.0     107359.0   NaN   \n",
       "1    675950189.0  694446100.0  713090928.0  731821393.0  750503764.0   NaN   \n",
       "2     37856121.0   39068979.0   40000412.0   40578842.0   41454761.0   NaN   \n",
       "3    463365429.0  474569351.0  485920997.0  497387180.0  509398589.0   NaN   \n",
       "4     32375632.0   33451132.0   34532429.0   35635029.0   36749906.0   NaN   \n",
       "..           ...          ...          ...          ...          ...   ...   \n",
       "261    1788891.0    1790152.0    1786080.0    1768096.0    1756366.0   NaN   \n",
       "262   35111408.0   36134863.0   37140230.0   38222876.0   39390799.0   NaN   \n",
       "263   59587885.0   60562381.0   61502603.0   62378410.0   63212384.0   NaN   \n",
       "264   18513839.0   19059395.0   19603607.0   20152938.0   20723965.0   NaN   \n",
       "265   15271368.0   15526888.0   15797210.0   16069056.0   16340822.0   NaN   \n",
       "\n",
       "     Unnamed: 69  \n",
       "0            NaN  \n",
       "1            NaN  \n",
       "2            NaN  \n",
       "3            NaN  \n",
       "4            NaN  \n",
       "..           ...  \n",
       "261          NaN  \n",
       "262          NaN  \n",
       "263          NaN  \n",
       "264          NaN  \n",
       "265          NaN  \n",
       "\n",
       "[266 rows x 70 columns]"
      ]
     },
     "execution_count": 6,
     "metadata": {},
     "output_type": "execute_result"
    }
   ],
   "source": [
    "df = pd.read_csv(r\"C:\\Users\\prapt\\Downloads\\API_SP.POP.TOTL_DS2_en_csv_v2_19373\\API_SP.POP.TOTL_DS2_en_csv_v2_19373.csv\",skiprows = 4)\n",
    "df"
   ]
  },
  {
   "cell_type": "markdown",
   "id": "637408df-a423-4b2a-8dbf-f55e659a6ce2",
   "metadata": {},
   "source": [
    "### Understand the Structure"
   ]
  },
  {
   "cell_type": "code",
   "execution_count": 9,
   "id": "c28c1759-2084-4c41-bd06-e2d7680798a3",
   "metadata": {},
   "outputs": [
    {
     "data": {
      "text/plain": [
       "(266, 70)"
      ]
     },
     "execution_count": 9,
     "metadata": {},
     "output_type": "execute_result"
    }
   ],
   "source": [
    "df.shape"
   ]
  },
  {
   "cell_type": "code",
   "execution_count": 18,
   "id": "91bbe073-0713-4892-ba72-d211ad72da1b",
   "metadata": {},
   "outputs": [
    {
     "name": "stdout",
     "output_type": "stream",
     "text": [
      "                  Country Name Country Code     Indicator Name  ...         2023  2024  Unnamed: 69\n",
      "0                        Aruba          ABW  Population, total  ...     107359.0   NaN          NaN\n",
      "1  Africa Eastern and Southern          AFE  Population, total  ...  750503764.0   NaN          NaN\n",
      "2                  Afghanistan          AFG  Population, total  ...   41454761.0   NaN          NaN\n",
      "3   Africa Western and Central          AFW  Population, total  ...  509398589.0   NaN          NaN\n",
      "4                       Angola          AGO  Population, total  ...   36749906.0   NaN          NaN\n",
      "\n",
      "[5 rows x 70 columns]\n"
     ]
    }
   ],
   "source": [
    "print(df.head())"
   ]
  },
  {
   "cell_type": "code",
   "execution_count": 24,
   "id": "91b9bf31-9ed9-470e-a219-b2cb11819cb6",
   "metadata": {},
   "outputs": [
    {
     "name": "stdout",
     "output_type": "stream",
     "text": [
      "Index(['Country Name', 'Country Code', 'Indicator Name', 'Indicator Code',\n",
      "       '1960', '1961', '1962', '1963', '1964', '1965', '1966', '1967', '1968',\n",
      "       '1969', '1970', '1971', '1972', '1973', '1974', '1975', '1976', '1977',\n",
      "       '1978', '1979', '1980', '1981', '1982', '1983', '1984', '1985', '1986',\n",
      "       '1987', '1988', '1989', '1990', '1991', '1992', '1993', '1994', '1995',\n",
      "       '1996', '1997', '1998', '1999', '2000', '2001', '2002', '2003', '2004',\n",
      "       '2005', '2006', '2007', '2008', '2009', '2010', '2011', '2012', '2013',\n",
      "       '2014', '2015', '2016', '2017', '2018', '2019', '2020', '2021', '2022',\n",
      "       '2023', '2024', 'Unnamed: 69'],\n",
      "      dtype='object')\n"
     ]
    }
   ],
   "source": [
    "print(df.columns)"
   ]
  },
  {
   "cell_type": "code",
   "execution_count": 11,
   "id": "1bde0385-2a6a-4468-94a4-553c0534c893",
   "metadata": {},
   "outputs": [
    {
     "data": {
      "text/plain": [
       "Country Name       object\n",
       "Country Code       object\n",
       "Indicator Name     object\n",
       "Indicator Code     object\n",
       "1960              float64\n",
       "                   ...   \n",
       "2021              float64\n",
       "2022              float64\n",
       "2023              float64\n",
       "2024              float64\n",
       "Unnamed: 69       float64\n",
       "Length: 70, dtype: object"
      ]
     },
     "execution_count": 11,
     "metadata": {},
     "output_type": "execute_result"
    }
   ],
   "source": [
    "df.dtypes"
   ]
  },
  {
   "cell_type": "code",
   "execution_count": 9,
   "id": "0be0d804-ee05-4bb4-b00c-7fbde92d0c98",
   "metadata": {},
   "outputs": [
    {
     "data": {
      "text/plain": [
       "<bound method DataFrame.info of                     Country Name Country Code     Indicator Name  \\\n",
       "0                          Aruba          ABW  Population, total   \n",
       "1    Africa Eastern and Southern          AFE  Population, total   \n",
       "2                    Afghanistan          AFG  Population, total   \n",
       "3     Africa Western and Central          AFW  Population, total   \n",
       "4                         Angola          AGO  Population, total   \n",
       "..                           ...          ...                ...   \n",
       "261                       Kosovo          XKX  Population, total   \n",
       "262                  Yemen, Rep.          YEM  Population, total   \n",
       "263                 South Africa          ZAF  Population, total   \n",
       "264                       Zambia          ZMB  Population, total   \n",
       "265                     Zimbabwe          ZWE  Population, total   \n",
       "\n",
       "    Indicator Code         1960         1961         1962         1963  \\\n",
       "0      SP.POP.TOTL      54922.0      55578.0      56320.0      57002.0   \n",
       "1      SP.POP.TOTL  130072080.0  133534923.0  137171659.0  140945536.0   \n",
       "2      SP.POP.TOTL    9035043.0    9214083.0    9404406.0    9604487.0   \n",
       "3      SP.POP.TOTL   97630925.0   99706674.0  101854756.0  104089175.0   \n",
       "4      SP.POP.TOTL    5231654.0    5301583.0    5354310.0    5408320.0   \n",
       "..             ...          ...          ...          ...          ...   \n",
       "261    SP.POP.TOTL     984846.0    1011421.0    1036950.0    1062737.0   \n",
       "262    SP.POP.TOTL    5532301.0    5655232.0    5782221.0    5911135.0   \n",
       "263    SP.POP.TOTL   16440172.0   16908035.0   17418522.0   17954564.0   \n",
       "264    SP.POP.TOTL    3153729.0    3254086.0    3358099.0    3465907.0   \n",
       "265    SP.POP.TOTL    3809389.0    3930401.0    4055959.0    4185877.0   \n",
       "\n",
       "            1964         1965  ...         2016         2017         2018  \\\n",
       "0        57619.0      58190.0  ...     108727.0     108735.0     108908.0   \n",
       "1    144904094.0  149033472.0  ...  623369401.0  640058741.0  657801085.0   \n",
       "2      9814318.0   10036008.0  ...   34700612.0   35688935.0   36743039.0   \n",
       "3    106388440.0  108772632.0  ...  429454743.0  440882906.0  452195915.0   \n",
       "4      5464187.0    5521981.0  ...   29183070.0   30234839.0   31297155.0   \n",
       "..           ...          ...  ...          ...          ...          ...   \n",
       "261    1090270.0    1120168.0  ...    1777568.0    1791019.0    1797086.0   \n",
       "262    6048006.0    6195593.0  ...   32109010.0   33090921.0   34085182.0   \n",
       "263   18511361.0   19089380.0  ...   57259551.0   57635162.0   58613001.0   \n",
       "264    3577017.0    3692086.0  ...   16914423.0   17441320.0   17973569.0   \n",
       "265    4320006.0    4458462.0  ...   14600294.0   14812482.0   15034452.0   \n",
       "\n",
       "            2019         2020         2021         2022         2023  2024  \\\n",
       "0       109203.0     108587.0     107700.0     107310.0     107359.0   NaN   \n",
       "1    675950189.0  694446100.0  713090928.0  731821393.0  750503764.0   NaN   \n",
       "2     37856121.0   39068979.0   40000412.0   40578842.0   41454761.0   NaN   \n",
       "3    463365429.0  474569351.0  485920997.0  497387180.0  509398589.0   NaN   \n",
       "4     32375632.0   33451132.0   34532429.0   35635029.0   36749906.0   NaN   \n",
       "..           ...          ...          ...          ...          ...   ...   \n",
       "261    1788891.0    1790152.0    1786080.0    1768096.0    1756366.0   NaN   \n",
       "262   35111408.0   36134863.0   37140230.0   38222876.0   39390799.0   NaN   \n",
       "263   59587885.0   60562381.0   61502603.0   62378410.0   63212384.0   NaN   \n",
       "264   18513839.0   19059395.0   19603607.0   20152938.0   20723965.0   NaN   \n",
       "265   15271368.0   15526888.0   15797210.0   16069056.0   16340822.0   NaN   \n",
       "\n",
       "     Unnamed: 69  \n",
       "0            NaN  \n",
       "1            NaN  \n",
       "2            NaN  \n",
       "3            NaN  \n",
       "4            NaN  \n",
       "..           ...  \n",
       "261          NaN  \n",
       "262          NaN  \n",
       "263          NaN  \n",
       "264          NaN  \n",
       "265          NaN  \n",
       "\n",
       "[266 rows x 70 columns]>"
      ]
     },
     "execution_count": 9,
     "metadata": {},
     "output_type": "execute_result"
    }
   ],
   "source": [
    "df.info"
   ]
  },
  {
   "cell_type": "markdown",
   "id": "d033c099-31d0-4f13-8fb0-ffe1897aaaad",
   "metadata": {},
   "source": [
    "### Check Missing Values"
   ]
  },
  {
   "cell_type": "code",
   "execution_count": 26,
   "id": "52c226ad-4025-4c91-8608-967c8bb6132b",
   "metadata": {},
   "outputs": [
    {
     "name": "stdout",
     "output_type": "stream",
     "text": [
      "Country Name        0\n",
      "Country Code        0\n",
      "Indicator Name      0\n",
      "Indicator Code      0\n",
      "1960                2\n",
      "                 ... \n",
      "2021                1\n",
      "2022                1\n",
      "2023                1\n",
      "2024              266\n",
      "Unnamed: 69       266\n",
      "Length: 70, dtype: int64\n"
     ]
    }
   ],
   "source": [
    "print(df.isnull().sum())"
   ]
  },
  {
   "cell_type": "code",
   "execution_count": 28,
   "id": "851a83b0-ba82-443d-929b-a5de141d408a",
   "metadata": {},
   "outputs": [
    {
     "name": "stdout",
     "output_type": "stream",
     "text": [
      "626\n"
     ]
    }
   ],
   "source": [
    "print(df.isnull().sum().sum())"
   ]
  },
  {
   "cell_type": "markdown",
   "id": "c1ecea3b-4d65-4173-904d-84663fe466e0",
   "metadata": {},
   "source": [
    "### Data Cleaning"
   ]
  },
  {
   "cell_type": "code",
   "execution_count": 30,
   "id": "37e021d2-a4c1-4663-b99e-97051b2e3736",
   "metadata": {},
   "outputs": [],
   "source": [
    "# Drop columns that are completely empty (like unused years)\n",
    "df = df.dropna(axis=1, how='all')\n",
    "\n",
    "# Drop rows with no country name\n",
    "df = df[df['Country Name'].notnull()]\n",
    "\n",
    "# Convert year columns to numeric and fill missing with 0\n",
    "years = df.columns[4:]  # assuming 0-3 are metadata like country name/code\n",
    "df[years] = df[years].apply(pd.to_numeric, errors='coerce').fillna(0)\n"
   ]
  },
  {
   "cell_type": "code",
   "execution_count": 32,
   "id": "51a12918-b81d-419d-b895-cf837a3c7a0f",
   "metadata": {},
   "outputs": [
    {
     "name": "stdout",
     "output_type": "stream",
     "text": [
      "0\n"
     ]
    }
   ],
   "source": [
    "print(df.isnull().sum().sum())"
   ]
  },
  {
   "cell_type": "markdown",
   "id": "d561d77a-ec42-4083-97c4-1a759db683ed",
   "metadata": {},
   "source": [
    "### Creating Bar Graph"
   ]
  },
  {
   "cell_type": "code",
   "execution_count": 42,
   "id": "803fadcf-2116-48e4-a5eb-74a16ef959b0",
   "metadata": {},
   "outputs": [
    {
     "name": "stderr",
     "output_type": "stream",
     "text": [
      "C:\\Users\\prapt\\AppData\\Local\\Temp\\ipykernel_8408\\710085028.py:3: FutureWarning: \n",
      "\n",
      "Passing `palette` without assigning `hue` is deprecated and will be removed in v0.14.0. Assign the `x` variable to `hue` and set `legend=False` for the same effect.\n",
      "\n",
      "  sns.barplot(data=top10, x='Country Name', y='2022', palette='viridis')\n"
     ]
    },
    {
     "data": {
      "image/png": "[encoded data removed]",
      "text/plain": [
       "<Figure size 1000x600 with 1 Axes>"
      ]
     },
     "metadata": {},
     "output_type": "display_data"
    }
   ],
   "source": [
    "# Plot vertical bar chart\n",
    "plt.figure(figsize=(10, 6))\n",
    "sns.barplot(data=top10, x='Country Name', y='2022', palette='viridis')\n",
    "plt.title('Top 10 Most Populous Countries in 2022')\n",
    "plt.xlabel('Country')\n",
    "plt.ylabel('Population')\n",
    "plt.xticks(rotation=45)\n",
    "plt.tight_layout()\n",
    "plt.show()\n"
   ]
  }
 ],
 "metadata": {
  "kernelspec": {
   "display_name": "Python 3 (ipykernel)",
   "language": "python",
   "name": "python3"
  },
  "language_info": {
   "codemirror_mode": {
    "name": "ipython",
    "version": 3
   },
   "file_extension": ".py",
   "mimetype": "text/x-python",
   "name": "python",
   "nbconvert_exporter": "python",
   "pygments_lexer": "ipython3",
   "version": "3.12.4"
  }
 },
 "nbformat": 4,
 "nbformat_minor": 5
}
